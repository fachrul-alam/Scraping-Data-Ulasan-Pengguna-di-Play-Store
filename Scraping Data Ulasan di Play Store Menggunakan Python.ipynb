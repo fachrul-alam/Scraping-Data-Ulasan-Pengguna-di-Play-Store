{
 "cells": [
  {
   "cell_type": "markdown",
   "id": "80f1b07b",
   "metadata": {},
   "source": [
    "## Cara Sr"
   ]
  },
  {
   "cell_type": "code",
   "execution_count": 1,
   "id": "08c5fc37",
   "metadata": {},
   "outputs": [],
   "source": [
    "# Scraping data aplikasi Ruang Guru di Google Play Store sebanyak 10000 data terbaru\n",
    "\n",
    "# Import library yang diperlukan\n",
    "from google_play_scraper import Sort, reviews\n",
    "\n",
    "# Panggil fungsi reviews untuk mengambil ulasan dari aplikasi Ruang Guru di Google Play Store\n",
    "# dengan mengatur berbagai parameter\n",
    "result, continuation_token = reviews(\n",
    "    'com.ruangguru.livestudents',  # ID paket aplikasi Ruang Guru\n",
    "    lang='id',                       # Bahasa ulasan (Indonesia)\n",
    "    country='id',                    # Negara ulasan (Indonesia)\n",
    "    sort=Sort.MOST_RELEVANT,         # Urutan ulasan (paling relevan)\n",
    "    count=10000,                     # Jumlah ulasan yang akan diambil (10000)\n",
    "    filter_score_with=None          # Tidak ada penyaringan berdasarkan skor ulasan\n",
    ")"
   ]
  },
  {
   "cell_type": "code",
   "execution_count": 2,
   "id": "8bd82a06",
   "metadata": {},
   "outputs": [],
   "source": [
    "import pandas as pd\n",
    "import numpy as np\n",
    "\n",
    "df_raw = pd.DataFrame(np.array(result), columns=['review apk ruangguru'])\n",
    "df_raw = df_raw.join(pd.DataFrame(df_raw.pop('review apk ruangguru').tolist()))"
   ]
  },
  {
   "cell_type": "code",
   "execution_count": 3,
   "id": "624108b6",
   "metadata": {},
   "outputs": [
    {
     "data": {
      "text/plain": [
       "10000"
      ]
     },
     "execution_count": 3,
     "metadata": {},
     "output_type": "execute_result"
    }
   ],
   "source": [
    "len(df_raw.index)"
   ]
  },
  {
   "cell_type": "code",
   "execution_count": 4,
   "id": "bad6d557",
   "metadata": {},
   "outputs": [
    {
     "data": {
      "text/html": [
       "<div>\n",
       "<style scoped>\n",
       "    .dataframe tbody tr th:only-of-type {\n",
       "        vertical-align: middle;\n",
       "    }\n",
       "\n",
       "    .dataframe tbody tr th {\n",
       "        vertical-align: top;\n",
       "    }\n",
       "\n",
       "    .dataframe thead th {\n",
       "        text-align: right;\n",
       "    }\n",
       "</style>\n",
       "<table border=\"1\" class=\"dataframe\">\n",
       "  <thead>\n",
       "    <tr style=\"text-align: right;\">\n",
       "      <th></th>\n",
       "      <th>userName</th>\n",
       "      <th>content</th>\n",
       "      <th>score</th>\n",
       "      <th>at</th>\n",
       "    </tr>\n",
       "  </thead>\n",
       "  <tbody>\n",
       "    <tr>\n",
       "      <th>0</th>\n",
       "      <td>Raka Fauzy Akbar</td>\n",
       "      <td>Trimakasih Ruangguru 👍, video penjelasan mudah...</td>\n",
       "      <td>5</td>\n",
       "      <td>2024-02-20 08:03:35</td>\n",
       "    </tr>\n",
       "    <tr>\n",
       "      <th>1</th>\n",
       "      <td>Shafaikmal Wahyudi</td>\n",
       "      <td>Aplikasi tempat belajar yang bagus menurut say...</td>\n",
       "      <td>5</td>\n",
       "      <td>2024-01-31 22:05:18</td>\n",
       "    </tr>\n",
       "    <tr>\n",
       "      <th>2</th>\n",
       "      <td>Bilqis Amiroh T.A.</td>\n",
       "      <td>Kadang terjadi banyak sekali lag, yang disuruh...</td>\n",
       "      <td>4</td>\n",
       "      <td>2023-12-05 20:52:17</td>\n",
       "    </tr>\n",
       "    <tr>\n",
       "      <th>3</th>\n",
       "      <td>Wangi Melati Putri</td>\n",
       "      <td>baguss tapii makin kesini tuh entah kenapa gak...</td>\n",
       "      <td>3</td>\n",
       "      <td>2024-02-04 11:28:40</td>\n",
       "    </tr>\n",
       "    <tr>\n",
       "      <th>4</th>\n",
       "      <td>Raditya Aries</td>\n",
       "      <td>Kenapa saat ini banyak bug di appnya,kadang vi...</td>\n",
       "      <td>1</td>\n",
       "      <td>2024-02-20 08:20:50</td>\n",
       "    </tr>\n",
       "  </tbody>\n",
       "</table>\n",
       "</div>"
      ],
      "text/plain": [
       "             userName                                            content  \\\n",
       "0    Raka Fauzy Akbar  Trimakasih Ruangguru 👍, video penjelasan mudah...   \n",
       "1  Shafaikmal Wahyudi  Aplikasi tempat belajar yang bagus menurut say...   \n",
       "2  Bilqis Amiroh T.A.  Kadang terjadi banyak sekali lag, yang disuruh...   \n",
       "3  Wangi Melati Putri  baguss tapii makin kesini tuh entah kenapa gak...   \n",
       "4       Raditya Aries  Kenapa saat ini banyak bug di appnya,kadang vi...   \n",
       "\n",
       "   score                  at  \n",
       "0      5 2024-02-20 08:03:35  \n",
       "1      5 2024-01-31 22:05:18  \n",
       "2      4 2023-12-05 20:52:17  \n",
       "3      3 2024-02-04 11:28:40  \n",
       "4      1 2024-02-20 08:20:50  "
      ]
     },
     "execution_count": 4,
     "metadata": {},
     "output_type": "execute_result"
    }
   ],
   "source": [
    "#mengambil variabel username, content, score, dan at\n",
    "\n",
    "df = df_raw[['userName', 'content', 'score', 'at']]\n",
    "df.head()"
   ]
  },
  {
   "cell_type": "code",
   "execution_count": 5,
   "id": "291019ff",
   "metadata": {},
   "outputs": [],
   "source": [
    "df.to_csv('review apk ruangguru.csv', index=False)"
   ]
  },
  {
   "cell_type": "code",
   "execution_count": 6,
   "id": "7f0a4c49",
   "metadata": {},
   "outputs": [
    {
     "data": {
      "text/html": [
       "<div>\n",
       "<style scoped>\n",
       "    .dataframe tbody tr th:only-of-type {\n",
       "        vertical-align: middle;\n",
       "    }\n",
       "\n",
       "    .dataframe tbody tr th {\n",
       "        vertical-align: top;\n",
       "    }\n",
       "\n",
       "    .dataframe thead th {\n",
       "        text-align: right;\n",
       "    }\n",
       "</style>\n",
       "<table border=\"1\" class=\"dataframe\">\n",
       "  <thead>\n",
       "    <tr style=\"text-align: right;\">\n",
       "      <th></th>\n",
       "      <th>userName</th>\n",
       "      <th>content</th>\n",
       "      <th>score</th>\n",
       "      <th>at</th>\n",
       "    </tr>\n",
       "  </thead>\n",
       "  <tbody>\n",
       "    <tr>\n",
       "      <th>0</th>\n",
       "      <td>Raka Fauzy Akbar</td>\n",
       "      <td>Trimakasih Ruangguru 👍, video penjelasan mudah...</td>\n",
       "      <td>5</td>\n",
       "      <td>2024-02-20 08:03:35</td>\n",
       "    </tr>\n",
       "    <tr>\n",
       "      <th>1</th>\n",
       "      <td>Shafaikmal Wahyudi</td>\n",
       "      <td>Aplikasi tempat belajar yang bagus menurut say...</td>\n",
       "      <td>5</td>\n",
       "      <td>2024-01-31 22:05:18</td>\n",
       "    </tr>\n",
       "    <tr>\n",
       "      <th>2</th>\n",
       "      <td>Bilqis Amiroh T.A.</td>\n",
       "      <td>Kadang terjadi banyak sekali lag, yang disuruh...</td>\n",
       "      <td>4</td>\n",
       "      <td>2023-12-05 20:52:17</td>\n",
       "    </tr>\n",
       "    <tr>\n",
       "      <th>3</th>\n",
       "      <td>Wangi Melati Putri</td>\n",
       "      <td>baguss tapii makin kesini tuh entah kenapa gak...</td>\n",
       "      <td>3</td>\n",
       "      <td>2024-02-04 11:28:40</td>\n",
       "    </tr>\n",
       "    <tr>\n",
       "      <th>4</th>\n",
       "      <td>Raditya Aries</td>\n",
       "      <td>Kenapa saat ini banyak bug di appnya,kadang vi...</td>\n",
       "      <td>1</td>\n",
       "      <td>2024-02-20 08:20:50</td>\n",
       "    </tr>\n",
       "  </tbody>\n",
       "</table>\n",
       "</div>"
      ],
      "text/plain": [
       "             userName                                            content  \\\n",
       "0    Raka Fauzy Akbar  Trimakasih Ruangguru 👍, video penjelasan mudah...   \n",
       "1  Shafaikmal Wahyudi  Aplikasi tempat belajar yang bagus menurut say...   \n",
       "2  Bilqis Amiroh T.A.  Kadang terjadi banyak sekali lag, yang disuruh...   \n",
       "3  Wangi Melati Putri  baguss tapii makin kesini tuh entah kenapa gak...   \n",
       "4       Raditya Aries  Kenapa saat ini banyak bug di appnya,kadang vi...   \n",
       "\n",
       "   score                   at  \n",
       "0      5  2024-02-20 08:03:35  \n",
       "1      5  2024-01-31 22:05:18  \n",
       "2      4  2023-12-05 20:52:17  \n",
       "3      3  2024-02-04 11:28:40  \n",
       "4      1  2024-02-20 08:20:50  "
      ]
     },
     "execution_count": 6,
     "metadata": {},
     "output_type": "execute_result"
    }
   ],
   "source": [
    "data = pd.read_csv('review apk ruangguru.csv')\n",
    "data.head()"
   ]
  }
 ],
 "metadata": {
  "kernelspec": {
   "display_name": "Python 3 (ipykernel)",
   "language": "python",
   "name": "python3"
  },
  "language_info": {
   "codemirror_mode": {
    "name": "ipython",
    "version": 3
   },
   "file_extension": ".py",
   "mimetype": "text/x-python",
   "name": "python",
   "nbconvert_exporter": "python",
   "pygments_lexer": "ipython3",
   "version": "3.9.13"
  }
 },
 "nbformat": 4,
 "nbformat_minor": 5
}
